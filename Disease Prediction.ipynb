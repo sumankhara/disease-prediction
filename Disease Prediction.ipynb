{
 "cells": [
  {
   "cell_type": "code",
   "execution_count": null,
   "metadata": {},
   "outputs": [],
   "source": [
    "from elasticsearch import Elasticsearch\n",
    "import wikipedia\n",
    "import re"
   ]
  },
  {
   "cell_type": "code",
   "execution_count": null,
   "metadata": {},
   "outputs": [],
   "source": [
    "client = Elasticsearch()\n",
    "indexName = \"medical\"\n",
    "client.indices.create(index = indexName)"
   ]
  },
  {
   "cell_type": "code",
   "execution_count": null,
   "metadata": {},
   "outputs": [],
   "source": [
    "diseaseMapping = {\n",
    "    'properties': {\n",
    "        'name': {'type': 'string'},\n",
    "        'title': {'type': 'string'},\n",
    "        'fulltext': {'type': 'string'}\n",
    "    }\n",
    "}\n",
    "client.indices.put_mapping(index = indexName, doc_type = 'diseases', body = diseaseMapping)"
   ]
  },
  {
   "cell_type": "code",
   "execution_count": null,
   "metadata": {},
   "outputs": [],
   "source": [
    "dl = wikipedia.page(\"Lists_of_diseases\")\n",
    "dl.links"
   ]
  },
  {
   "cell_type": "code",
   "execution_count": null,
   "metadata": {},
   "outputs": [],
   "source": [
    "diseaseListArray = []\n",
    "diseaseListArray.append(wikipedia.page(\"List_of_diseases_(B)\"))\n",
    "#diseaseListArray.append(wikipedia.page(\"List_of_diseases_(Z)\"))\n",
    "print(diseaseListArray)\n",
    "#for link in dl.links[15:16]:\n",
    "#    print(\"link: \", link)\n",
    "#    try:\n",
    "#        diseaseListArray.append(wikipedia.page(link))\n",
    "#        print(wikipedia.page(link).title)\n",
    "#        print(wikipedia.page(link).content)\n",
    "#    except Exception:\n",
    "#        print(\"Exception Occurred\")\n",
    "#diseaseListArray\n",
    "docType = 'diseases'\n",
    "for diseaselistNumber, diseaselist in enumerate(diseaseListArray):\n",
    "    for disease in diseaselist.links:\n",
    "        print(\"diseaselistNumber: \", diseaselistNumber)\n",
    "        try:\n",
    "            if disease[0:4] != \"List\":\n",
    "                currentPage = wikipedia.page(disease)\n",
    "                print(\"name: \", disease)\n",
    "                print(\"title: \", currentPage.title)\n",
    "#                print(\"fullText: \", currentPage.content)\n",
    "                client.index(index=indexName, doc_type=docType,id = disease, body={\"name\": disease,\n",
    "                                 \"title\": currentPage.title, \"fulltext\": currentPage.content})\n",
    "        except Exception as ex:\n",
    "            print(ex)\n"
   ]
  },
  {
   "cell_type": "code",
   "execution_count": 10,
   "metadata": {},
   "outputs": [
    {
     "data": {
      "text/plain": [
       "{'took': 3,\n",
       " 'timed_out': False,\n",
       " '_shards': {'total': 5, 'successful': 5, 'skipped': 0, 'failed': 0},\n",
       " 'hits': {'total': 18,\n",
       "  'max_score': 7.3687305,\n",
       "  'hits': [{'_index': 'medical',\n",
       "    '_type': 'diseases',\n",
       "    '_id': 'Arthritis, juvenile',\n",
       "    '_score': 7.3687305},\n",
       "   {'_index': 'medical',\n",
       "    '_type': 'diseases',\n",
       "    '_id': 'Arthritis',\n",
       "    '_score': 7.297332},\n",
       "   {'_index': 'medical',\n",
       "    '_type': 'diseases',\n",
       "    '_id': 'Acute gouty arthritis',\n",
       "    '_score': 5.8312016}]}}"
      ]
     },
     "execution_count": 10,
     "metadata": {},
     "output_type": "execute_result"
    }
   ],
   "source": [
    "indexName = \"medical\"\n",
    "docType=\"diseases\"\n",
    "searchFrom = 0\n",
    "searchSize= 3\n",
    "\n",
    "searchBody = {\n",
    "    \"stored_fields\": [\"name\"],\n",
    "    \"query\": {\n",
    "        \"simple_query_string\": {\n",
    "            \"query\": '+fatigue+fever+\"joint pain\"',\n",
    "            \"fields\": [\"fulltext\",\"title^5\",\"name^10\"]\n",
    "        }\n",
    "    }\n",
    "}\n",
    "client.search(index = indexName, doc_type = docType, body = searchBody, from_ = searchFrom, size = searchSize)"
   ]
  },
  {
   "cell_type": "code",
   "execution_count": null,
   "metadata": {},
   "outputs": [],
   "source": []
  }
 ],
 "metadata": {
  "kernelspec": {
   "display_name": "Python 3",
   "language": "python",
   "name": "python3"
  },
  "language_info": {
   "codemirror_mode": {
    "name": "ipython",
    "version": 3
   },
   "file_extension": ".py",
   "mimetype": "text/x-python",
   "name": "python",
   "nbconvert_exporter": "python",
   "pygments_lexer": "ipython3",
   "version": "3.6.4"
  }
 },
 "nbformat": 4,
 "nbformat_minor": 2
}
